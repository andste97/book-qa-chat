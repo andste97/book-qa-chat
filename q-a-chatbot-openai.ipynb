{
 "cells": [
  {
   "cell_type": "code",
   "execution_count": 1,
   "id": "6db0588c",
   "metadata": {},
   "outputs": [
    {
     "name": "stdout",
     "output_type": "stream",
     "text": [
      "Collecting sentence_transformers==2.2.2\n",
      "  Using cached sentence_transformers-2.2.2-py3-none-any.whl\n",
      "Collecting transformers<5.0.0,>=4.6.0 (from sentence_transformers==2.2.2)\n",
      "  Using cached transformers-4.51.3-py3-none-any.whl.metadata (38 kB)\n",
      "Collecting tqdm (from sentence_transformers==2.2.2)\n",
      "  Using cached tqdm-4.67.1-py3-none-any.whl.metadata (57 kB)\n",
      "Collecting torch>=1.6.0 (from sentence_transformers==2.2.2)\n",
      "  Using cached torch-2.7.0-cp310-cp310-manylinux_2_28_x86_64.whl.metadata (29 kB)\n",
      "Collecting torchvision (from sentence_transformers==2.2.2)\n",
      "  Using cached torchvision-0.22.0-cp310-cp310-manylinux_2_28_x86_64.whl.metadata (6.1 kB)\n",
      "Collecting numpy (from sentence_transformers==2.2.2)\n",
      "  Using cached numpy-2.2.5-cp310-cp310-manylinux_2_17_x86_64.manylinux2014_x86_64.whl.metadata (62 kB)\n",
      "Collecting scikit-learn (from sentence_transformers==2.2.2)\n",
      "  Using cached scikit_learn-1.6.1-cp310-cp310-manylinux_2_17_x86_64.manylinux2014_x86_64.whl.metadata (18 kB)\n",
      "Collecting scipy (from sentence_transformers==2.2.2)\n",
      "  Using cached scipy-1.15.3-cp310-cp310-manylinux_2_17_x86_64.manylinux2014_x86_64.whl.metadata (61 kB)\n",
      "Collecting nltk (from sentence_transformers==2.2.2)\n",
      "  Using cached nltk-3.9.1-py3-none-any.whl.metadata (2.9 kB)\n",
      "Collecting sentencepiece (from sentence_transformers==2.2.2)\n",
      "  Using cached sentencepiece-0.2.0-cp310-cp310-manylinux_2_17_x86_64.manylinux2014_x86_64.whl.metadata (7.7 kB)\n",
      "Collecting huggingface-hub>=0.4.0 (from sentence_transformers==2.2.2)\n",
      "  Using cached huggingface_hub-0.31.2-py3-none-any.whl.metadata (13 kB)\n",
      "Collecting filelock (from transformers<5.0.0,>=4.6.0->sentence_transformers==2.2.2)\n",
      "  Using cached filelock-3.18.0-py3-none-any.whl.metadata (2.9 kB)\n",
      "Requirement already satisfied: packaging>=20.0 in ./.venv/lib/python3.10/site-packages (from transformers<5.0.0,>=4.6.0->sentence_transformers==2.2.2) (25.0)\n",
      "Collecting pyyaml>=5.1 (from transformers<5.0.0,>=4.6.0->sentence_transformers==2.2.2)\n",
      "  Using cached PyYAML-6.0.2-cp310-cp310-manylinux_2_17_x86_64.manylinux2014_x86_64.whl.metadata (2.1 kB)\n",
      "Collecting regex!=2019.12.17 (from transformers<5.0.0,>=4.6.0->sentence_transformers==2.2.2)\n",
      "  Using cached regex-2024.11.6-cp310-cp310-manylinux_2_17_x86_64.manylinux2014_x86_64.whl.metadata (40 kB)\n",
      "Collecting requests (from transformers<5.0.0,>=4.6.0->sentence_transformers==2.2.2)\n",
      "  Using cached requests-2.32.3-py3-none-any.whl.metadata (4.6 kB)\n",
      "Collecting tokenizers<0.22,>=0.21 (from transformers<5.0.0,>=4.6.0->sentence_transformers==2.2.2)\n",
      "  Using cached tokenizers-0.21.1-cp39-abi3-manylinux_2_17_x86_64.manylinux2014_x86_64.whl.metadata (6.8 kB)\n",
      "Collecting safetensors>=0.4.3 (from transformers<5.0.0,>=4.6.0->sentence_transformers==2.2.2)\n",
      "  Using cached safetensors-0.5.3-cp38-abi3-manylinux_2_17_x86_64.manylinux2014_x86_64.whl.metadata (3.8 kB)\n",
      "Collecting fsspec>=2023.5.0 (from huggingface-hub>=0.4.0->sentence_transformers==2.2.2)\n",
      "  Using cached fsspec-2025.3.2-py3-none-any.whl.metadata (11 kB)\n",
      "Requirement already satisfied: typing-extensions>=3.7.4.3 in ./.venv/lib/python3.10/site-packages (from huggingface-hub>=0.4.0->sentence_transformers==2.2.2) (4.13.2)\n",
      "Collecting sympy>=1.13.3 (from torch>=1.6.0->sentence_transformers==2.2.2)\n",
      "  Using cached sympy-1.14.0-py3-none-any.whl.metadata (12 kB)\n",
      "Collecting networkx (from torch>=1.6.0->sentence_transformers==2.2.2)\n",
      "  Using cached networkx-3.4.2-py3-none-any.whl.metadata (6.3 kB)\n",
      "Collecting jinja2 (from torch>=1.6.0->sentence_transformers==2.2.2)\n",
      "  Using cached jinja2-3.1.6-py3-none-any.whl.metadata (2.9 kB)\n",
      "Collecting nvidia-cuda-nvrtc-cu12==12.6.77 (from torch>=1.6.0->sentence_transformers==2.2.2)\n",
      "  Using cached nvidia_cuda_nvrtc_cu12-12.6.77-py3-none-manylinux2014_x86_64.whl.metadata (1.5 kB)\n",
      "Collecting nvidia-cuda-runtime-cu12==12.6.77 (from torch>=1.6.0->sentence_transformers==2.2.2)\n",
      "  Using cached nvidia_cuda_runtime_cu12-12.6.77-py3-none-manylinux2014_x86_64.manylinux_2_17_x86_64.whl.metadata (1.5 kB)\n",
      "Collecting nvidia-cuda-cupti-cu12==12.6.80 (from torch>=1.6.0->sentence_transformers==2.2.2)\n",
      "  Using cached nvidia_cuda_cupti_cu12-12.6.80-py3-none-manylinux2014_x86_64.manylinux_2_17_x86_64.whl.metadata (1.6 kB)\n",
      "Collecting nvidia-cudnn-cu12==9.5.1.17 (from torch>=1.6.0->sentence_transformers==2.2.2)\n",
      "  Using cached nvidia_cudnn_cu12-9.5.1.17-py3-none-manylinux_2_28_x86_64.whl.metadata (1.6 kB)\n",
      "Collecting nvidia-cublas-cu12==12.6.4.1 (from torch>=1.6.0->sentence_transformers==2.2.2)\n",
      "  Using cached nvidia_cublas_cu12-12.6.4.1-py3-none-manylinux2014_x86_64.manylinux_2_17_x86_64.whl.metadata (1.5 kB)\n",
      "Collecting nvidia-cufft-cu12==11.3.0.4 (from torch>=1.6.0->sentence_transformers==2.2.2)\n",
      "  Using cached nvidia_cufft_cu12-11.3.0.4-py3-none-manylinux2014_x86_64.manylinux_2_17_x86_64.whl.metadata (1.5 kB)\n",
      "Collecting nvidia-curand-cu12==10.3.7.77 (from torch>=1.6.0->sentence_transformers==2.2.2)\n",
      "  Using cached nvidia_curand_cu12-10.3.7.77-py3-none-manylinux2014_x86_64.manylinux_2_17_x86_64.whl.metadata (1.5 kB)\n",
      "Collecting nvidia-cusolver-cu12==11.7.1.2 (from torch>=1.6.0->sentence_transformers==2.2.2)\n",
      "  Using cached nvidia_cusolver_cu12-11.7.1.2-py3-none-manylinux2014_x86_64.manylinux_2_17_x86_64.whl.metadata (1.6 kB)\n",
      "Collecting nvidia-cusparse-cu12==12.5.4.2 (from torch>=1.6.0->sentence_transformers==2.2.2)\n",
      "  Using cached nvidia_cusparse_cu12-12.5.4.2-py3-none-manylinux2014_x86_64.manylinux_2_17_x86_64.whl.metadata (1.6 kB)\n",
      "Collecting nvidia-cusparselt-cu12==0.6.3 (from torch>=1.6.0->sentence_transformers==2.2.2)\n",
      "  Using cached nvidia_cusparselt_cu12-0.6.3-py3-none-manylinux2014_x86_64.whl.metadata (6.8 kB)\n",
      "Collecting nvidia-nccl-cu12==2.26.2 (from torch>=1.6.0->sentence_transformers==2.2.2)\n",
      "  Using cached nvidia_nccl_cu12-2.26.2-py3-none-manylinux2014_x86_64.manylinux_2_17_x86_64.whl.metadata (2.0 kB)\n",
      "Collecting nvidia-nvtx-cu12==12.6.77 (from torch>=1.6.0->sentence_transformers==2.2.2)\n",
      "  Using cached nvidia_nvtx_cu12-12.6.77-py3-none-manylinux2014_x86_64.manylinux_2_17_x86_64.whl.metadata (1.6 kB)\n",
      "Collecting nvidia-nvjitlink-cu12==12.6.85 (from torch>=1.6.0->sentence_transformers==2.2.2)\n",
      "  Using cached nvidia_nvjitlink_cu12-12.6.85-py3-none-manylinux2010_x86_64.manylinux_2_12_x86_64.whl.metadata (1.5 kB)\n",
      "Collecting nvidia-cufile-cu12==1.11.1.6 (from torch>=1.6.0->sentence_transformers==2.2.2)\n",
      "  Using cached nvidia_cufile_cu12-1.11.1.6-py3-none-manylinux2014_x86_64.manylinux_2_17_x86_64.whl.metadata (1.5 kB)\n",
      "Collecting triton==3.3.0 (from torch>=1.6.0->sentence_transformers==2.2.2)\n",
      "  Using cached triton-3.3.0-cp310-cp310-manylinux_2_27_x86_64.manylinux_2_28_x86_64.whl.metadata (1.5 kB)\n",
      "Collecting setuptools>=40.8.0 (from triton==3.3.0->torch>=1.6.0->sentence_transformers==2.2.2)\n",
      "  Using cached setuptools-80.7.1-py3-none-any.whl.metadata (6.6 kB)\n",
      "Collecting mpmath<1.4,>=1.1.0 (from sympy>=1.13.3->torch>=1.6.0->sentence_transformers==2.2.2)\n",
      "  Using cached mpmath-1.3.0-py3-none-any.whl.metadata (8.6 kB)\n",
      "Collecting MarkupSafe>=2.0 (from jinja2->torch>=1.6.0->sentence_transformers==2.2.2)\n",
      "  Using cached MarkupSafe-3.0.2-cp310-cp310-manylinux_2_17_x86_64.manylinux2014_x86_64.whl.metadata (4.0 kB)\n",
      "Collecting click (from nltk->sentence_transformers==2.2.2)\n",
      "  Using cached click-8.2.0-py3-none-any.whl.metadata (2.5 kB)\n",
      "Collecting joblib (from nltk->sentence_transformers==2.2.2)\n",
      "  Using cached joblib-1.5.0-py3-none-any.whl.metadata (5.6 kB)\n",
      "Collecting charset-normalizer<4,>=2 (from requests->transformers<5.0.0,>=4.6.0->sentence_transformers==2.2.2)\n",
      "  Using cached charset_normalizer-3.4.2-cp310-cp310-manylinux_2_17_x86_64.manylinux2014_x86_64.whl.metadata (35 kB)\n",
      "Collecting idna<4,>=2.5 (from requests->transformers<5.0.0,>=4.6.0->sentence_transformers==2.2.2)\n",
      "  Using cached idna-3.10-py3-none-any.whl.metadata (10 kB)\n",
      "Collecting urllib3<3,>=1.21.1 (from requests->transformers<5.0.0,>=4.6.0->sentence_transformers==2.2.2)\n",
      "  Using cached urllib3-2.4.0-py3-none-any.whl.metadata (6.5 kB)\n",
      "Collecting certifi>=2017.4.17 (from requests->transformers<5.0.0,>=4.6.0->sentence_transformers==2.2.2)\n",
      "  Using cached certifi-2025.4.26-py3-none-any.whl.metadata (2.5 kB)\n",
      "Collecting threadpoolctl>=3.1.0 (from scikit-learn->sentence_transformers==2.2.2)\n",
      "  Using cached threadpoolctl-3.6.0-py3-none-any.whl.metadata (13 kB)\n",
      "Collecting pillow!=8.3.*,>=5.3.0 (from torchvision->sentence_transformers==2.2.2)\n",
      "  Using cached pillow-11.2.1-cp310-cp310-manylinux_2_28_x86_64.whl.metadata (8.9 kB)\n",
      "Using cached transformers-4.51.3-py3-none-any.whl (10.4 MB)\n",
      "Using cached huggingface_hub-0.31.2-py3-none-any.whl (484 kB)\n",
      "Using cached tokenizers-0.21.1-cp39-abi3-manylinux_2_17_x86_64.manylinux2014_x86_64.whl (3.0 MB)\n",
      "Using cached fsspec-2025.3.2-py3-none-any.whl (194 kB)\n",
      "Using cached numpy-2.2.5-cp310-cp310-manylinux_2_17_x86_64.manylinux2014_x86_64.whl (16.4 MB)\n",
      "Using cached PyYAML-6.0.2-cp310-cp310-manylinux_2_17_x86_64.manylinux2014_x86_64.whl (751 kB)\n",
      "Using cached regex-2024.11.6-cp310-cp310-manylinux_2_17_x86_64.manylinux2014_x86_64.whl (781 kB)\n",
      "Using cached safetensors-0.5.3-cp38-abi3-manylinux_2_17_x86_64.manylinux2014_x86_64.whl (471 kB)\n",
      "Using cached torch-2.7.0-cp310-cp310-manylinux_2_28_x86_64.whl (865.2 MB)\n",
      "Using cached nvidia_cublas_cu12-12.6.4.1-py3-none-manylinux2014_x86_64.manylinux_2_17_x86_64.whl (393.1 MB)\n",
      "Using cached nvidia_cuda_cupti_cu12-12.6.80-py3-none-manylinux2014_x86_64.manylinux_2_17_x86_64.whl (8.9 MB)\n",
      "Using cached nvidia_cuda_nvrtc_cu12-12.6.77-py3-none-manylinux2014_x86_64.whl (23.7 MB)\n",
      "Using cached nvidia_cuda_runtime_cu12-12.6.77-py3-none-manylinux2014_x86_64.manylinux_2_17_x86_64.whl (897 kB)\n",
      "Using cached nvidia_cudnn_cu12-9.5.1.17-py3-none-manylinux_2_28_x86_64.whl (571.0 MB)\n",
      "Using cached nvidia_cufft_cu12-11.3.0.4-py3-none-manylinux2014_x86_64.manylinux_2_17_x86_64.whl (200.2 MB)\n",
      "Using cached nvidia_cufile_cu12-1.11.1.6-py3-none-manylinux2014_x86_64.manylinux_2_17_x86_64.whl (1.1 MB)\n",
      "Using cached nvidia_curand_cu12-10.3.7.77-py3-none-manylinux2014_x86_64.manylinux_2_17_x86_64.whl (56.3 MB)\n",
      "Using cached nvidia_cusolver_cu12-11.7.1.2-py3-none-manylinux2014_x86_64.manylinux_2_17_x86_64.whl (158.2 MB)\n",
      "Using cached nvidia_cusparse_cu12-12.5.4.2-py3-none-manylinux2014_x86_64.manylinux_2_17_x86_64.whl (216.6 MB)\n",
      "Using cached nvidia_cusparselt_cu12-0.6.3-py3-none-manylinux2014_x86_64.whl (156.8 MB)\n",
      "Using cached nvidia_nccl_cu12-2.26.2-py3-none-manylinux2014_x86_64.manylinux_2_17_x86_64.whl (201.3 MB)\n",
      "Using cached nvidia_nvjitlink_cu12-12.6.85-py3-none-manylinux2010_x86_64.manylinux_2_12_x86_64.whl (19.7 MB)\n",
      "Using cached nvidia_nvtx_cu12-12.6.77-py3-none-manylinux2014_x86_64.manylinux_2_17_x86_64.whl (89 kB)\n",
      "Using cached triton-3.3.0-cp310-cp310-manylinux_2_27_x86_64.manylinux_2_28_x86_64.whl (156.4 MB)\n",
      "Using cached setuptools-80.7.1-py3-none-any.whl (1.2 MB)\n",
      "Using cached sympy-1.14.0-py3-none-any.whl (6.3 MB)\n",
      "Using cached mpmath-1.3.0-py3-none-any.whl (536 kB)\n",
      "Using cached tqdm-4.67.1-py3-none-any.whl (78 kB)\n",
      "Using cached filelock-3.18.0-py3-none-any.whl (16 kB)\n",
      "Using cached jinja2-3.1.6-py3-none-any.whl (134 kB)\n",
      "Using cached MarkupSafe-3.0.2-cp310-cp310-manylinux_2_17_x86_64.manylinux2014_x86_64.whl (20 kB)\n",
      "Using cached networkx-3.4.2-py3-none-any.whl (1.7 MB)\n",
      "Using cached nltk-3.9.1-py3-none-any.whl (1.5 MB)\n",
      "Using cached click-8.2.0-py3-none-any.whl (102 kB)\n",
      "Using cached joblib-1.5.0-py3-none-any.whl (307 kB)\n",
      "Using cached requests-2.32.3-py3-none-any.whl (64 kB)\n",
      "Using cached charset_normalizer-3.4.2-cp310-cp310-manylinux_2_17_x86_64.manylinux2014_x86_64.whl (149 kB)\n",
      "Using cached idna-3.10-py3-none-any.whl (70 kB)\n",
      "Using cached urllib3-2.4.0-py3-none-any.whl (128 kB)\n",
      "Using cached certifi-2025.4.26-py3-none-any.whl (159 kB)\n",
      "Using cached scikit_learn-1.6.1-cp310-cp310-manylinux_2_17_x86_64.manylinux2014_x86_64.whl (13.5 MB)\n",
      "Using cached scipy-1.15.3-cp310-cp310-manylinux_2_17_x86_64.manylinux2014_x86_64.whl (37.7 MB)\n",
      "Using cached threadpoolctl-3.6.0-py3-none-any.whl (18 kB)\n",
      "Using cached sentencepiece-0.2.0-cp310-cp310-manylinux_2_17_x86_64.manylinux2014_x86_64.whl (1.3 MB)\n",
      "Using cached torchvision-0.22.0-cp310-cp310-manylinux_2_28_x86_64.whl (7.4 MB)\n",
      "Using cached pillow-11.2.1-cp310-cp310-manylinux_2_28_x86_64.whl (4.6 MB)\n",
      "Installing collected packages: sentencepiece, nvidia-cusparselt-cu12, mpmath, urllib3, tqdm, threadpoolctl, sympy, setuptools, safetensors, regex, pyyaml, pillow, nvidia-nvtx-cu12, nvidia-nvjitlink-cu12, nvidia-nccl-cu12, nvidia-curand-cu12, nvidia-cufile-cu12, nvidia-cuda-runtime-cu12, nvidia-cuda-nvrtc-cu12, nvidia-cuda-cupti-cu12, nvidia-cublas-cu12, numpy, networkx, MarkupSafe, joblib, idna, fsspec, filelock, click, charset-normalizer, certifi, triton, scipy, requests, nvidia-cusparse-cu12, nvidia-cufft-cu12, nvidia-cudnn-cu12, nltk, jinja2, scikit-learn, nvidia-cusolver-cu12, huggingface-hub, torch, tokenizers, transformers, torchvision, sentence_transformers\n",
      "\u001b[2K   \u001b[90m━━━━━━━━━━━━━━━━━━━━━━━━━━━━━━━━━━━━━━━━\u001b[0m \u001b[32m47/47\u001b[0m [sentence_transformers]sformers]ub]cu12]2]\n",
      "\u001b[1A\u001b[2KSuccessfully installed MarkupSafe-3.0.2 certifi-2025.4.26 charset-normalizer-3.4.2 click-8.2.0 filelock-3.18.0 fsspec-2025.3.2 huggingface-hub-0.31.2 idna-3.10 jinja2-3.1.6 joblib-1.5.0 mpmath-1.3.0 networkx-3.4.2 nltk-3.9.1 numpy-2.2.5 nvidia-cublas-cu12-12.6.4.1 nvidia-cuda-cupti-cu12-12.6.80 nvidia-cuda-nvrtc-cu12-12.6.77 nvidia-cuda-runtime-cu12-12.6.77 nvidia-cudnn-cu12-9.5.1.17 nvidia-cufft-cu12-11.3.0.4 nvidia-cufile-cu12-1.11.1.6 nvidia-curand-cu12-10.3.7.77 nvidia-cusolver-cu12-11.7.1.2 nvidia-cusparse-cu12-12.5.4.2 nvidia-cusparselt-cu12-0.6.3 nvidia-nccl-cu12-2.26.2 nvidia-nvjitlink-cu12-12.6.85 nvidia-nvtx-cu12-12.6.77 pillow-11.2.1 pyyaml-6.0.2 regex-2024.11.6 requests-2.32.3 safetensors-0.5.3 scikit-learn-1.6.1 scipy-1.15.3 sentence_transformers-2.2.2 sentencepiece-0.2.0 setuptools-80.7.1 sympy-1.14.0 threadpoolctl-3.6.0 tokenizers-0.21.1 torch-2.7.0 torchvision-0.22.0 tqdm-4.67.1 transformers-4.51.3 triton-3.3.0 urllib3-2.4.0\n",
      "CPU times: user 1.91 s, sys: 910 ms, total: 2.82 s\n",
      "Wall time: 2min 11s\n"
     ]
    }
   ],
   "source": [
    "%%time\n",
    "\n",
    "from IPython.display import clear_output\n",
    "\n",
    "! pip install sentence_transformers==2.2.2\n",
    "\n",
    "! pip install -qq -U langchain\n",
    "! pip install -qq -U langchain-community\n",
    "! pip install -qq -U langchain-huggingface\n",
    "! pip install -qq -U tiktoken\n",
    "! pip install -qq -U pypdf\n",
    "! pip install -qq -U faiss-gpu-cu12\n",
    "! pip install -qq -U InstructorEmbedding \n",
    "\n",
    "! pip install -qq -U transformers \n",
    "! pip install -qq -U accelerate\n",
    "! pip install -qq -U bitsandbytes\n",
    "! pip install -qU langchain-openai"
   ]
  },
  {
   "cell_type": "code",
   "execution_count": 2,
   "id": "975f8c03",
   "metadata": {},
   "outputs": [],
   "source": [
    "import getpass\n",
    "import os\n",
    "\n",
    "if not os.environ.get(\"OPENAI_API_KEY\"):\n",
    "    os.environ[\"OPENAI_API_KEY\"] = getpass.getpass(\"Enter your OpenAI API key: \")"
   ]
  },
  {
   "cell_type": "code",
   "execution_count": 9,
   "id": "8387c9f2",
   "metadata": {},
   "outputs": [],
   "source": [
    "from langchain_openai import OpenAIEmbeddings"
   ]
  },
  {
   "cell_type": "code",
   "execution_count": 10,
   "id": "184f8092",
   "metadata": {},
   "outputs": [
    {
     "name": "stdout",
     "output_type": "stream",
     "text": [
      "CPU times: user 364 μs, sys: 109 μs, total: 473 μs\n",
      "Wall time: 477 μs\n"
     ]
    }
   ],
   "source": [
    "%%time\n",
    "\n",
    "import warnings\n",
    "warnings.filterwarnings(\"ignore\")\n",
    "\n",
    "import os\n",
    "import glob\n",
    "import textwrap\n",
    "import time\n",
    "\n",
    "import langchain_community\n",
    "import langchain\n",
    "\n",
    "### loaders\n",
    "from langchain_community.document_loaders import PyPDFLoader, DirectoryLoader\n",
    "\n",
    "### splits\n",
    "from langchain.text_splitter import RecursiveCharacterTextSplitter\n",
    "\n",
    "### prompts\n",
    "from langchain import PromptTemplate, LLMChain\n",
    "\n",
    "### vector stores\n",
    "from langchain_community.vectorstores import FAISS\n",
    "\n",
    "### models\n",
    "from langchain_community.llms import HuggingFacePipeline\n",
    "from langchain_community.embeddings import HuggingFaceInstructEmbeddings\n",
    "\n",
    "### retrievers\n",
    "from langchain.chains import RetrievalQA\n",
    "\n",
    "import torch\n",
    "import transformers\n",
    "from transformers import (\n",
    "    AutoTokenizer, AutoModelForCausalLM,\n",
    "    BitsAndBytesConfig,\n",
    "    pipeline\n",
    ")"
   ]
  },
  {
   "cell_type": "markdown",
   "id": "b42af9f8",
   "metadata": {},
   "source": [
    "# Create configuration"
   ]
  },
  {
   "cell_type": "code",
   "execution_count": 20,
   "id": "5a4b54f9",
   "metadata": {},
   "outputs": [],
   "source": [
    "class CFG:\n",
    "    # LLMs\n",
    "    # model_name = 'llama2-13b-chat' # wizardlm, llama2-7b-chat, llama2-13b-chat, mistral-7B\n",
    "    # temperature = 0\n",
    "    # top_p = 0.95\n",
    "    # repetition_penalty = 1.15    \n",
    "\n",
    "    # splitting\n",
    "    split_chunk_size = 800\n",
    "    split_overlap = 0\n",
    "    \n",
    "    # embeddings\n",
    "    # embeddings_model_repo = 'sentence-transformers/all-MiniLM-L6-v2'    \n",
    "\n",
    "    # similar passages\n",
    "    k = 10\n",
    "    \n",
    "    # paths\n",
    "    PDFs_path = './input/books/'\n",
    "    Embeddings_path =  './output/book-embeddings/'\n",
    "    Output_folder = './output/books-vectordb'"
   ]
  },
  {
   "cell_type": "markdown",
   "id": "e750798d",
   "metadata": {},
   "source": [
    "# Loading the data"
   ]
  },
  {
   "cell_type": "code",
   "execution_count": 21,
   "id": "1cfd81f8",
   "metadata": {},
   "outputs": [
    {
     "data": {
      "text/plain": [
       "['./input/books/Journey of Black and Red, A - Mecanimus.pdf']"
      ]
     },
     "execution_count": 21,
     "metadata": {},
     "output_type": "execute_result"
    }
   ],
   "source": [
    "sorted(glob.glob(CFG.PDFs_path + '*'))"
   ]
  },
  {
   "cell_type": "code",
   "execution_count": 22,
   "id": "b4a82247",
   "metadata": {},
   "outputs": [
    {
     "name": "stderr",
     "output_type": "stream",
     "text": [
      "100%|██████████| 1/1 [00:57<00:00, 57.07s/it]"
     ]
    },
    {
     "name": "stdout",
     "output_type": "stream",
     "text": [
      "CPU times: user 57 s, sys: 100 ms, total: 57.1 s\n",
      "Wall time: 57.1 s\n"
     ]
    },
    {
     "name": "stderr",
     "output_type": "stream",
     "text": [
      "\n"
     ]
    }
   ],
   "source": [
    "%%time\n",
    "\n",
    "loader = DirectoryLoader(\n",
    "    CFG.PDFs_path,\n",
    "    glob=\"./*.pdf\",\n",
    "    loader_cls=PyPDFLoader,\n",
    "    show_progress=True,\n",
    "    use_multithreading=True\n",
    ")\n",
    "\n",
    "documents = loader.load()"
   ]
  },
  {
   "cell_type": "code",
   "execution_count": 25,
   "id": "4ecf87ea",
   "metadata": {},
   "outputs": [
    {
     "name": "stdout",
     "output_type": "stream",
     "text": [
      "We have 5570 pages in total\n"
     ]
    },
    {
     "data": {
      "text/plain": [
       "'How I wish I could convey my outrage at being held like this! Not\\neven a bucket of water, or a chamber pot! Am I to live like a beast? I\\ndo not want to think about it. I do not want to think about a great\\nmany things.\\nThe smaller, white man jumps in surprise and even the Asian\\nguardian lifts an eyebrow. What is wrong with them? Did they\\nexpect me to cower, to beg?\\n“Well,  Milady. Forgive this humble Baudouin, heh? Did not expect ya\\nto be so…”\\nI huff with impatience and address his companion.\\n“How about you, warrior, care to explain why I am being held so?”\\nWhile Baudouin is flustered, this one seems barely amused.\\n“It is for your own safety.”\\n“My safety? I will be secure when I am unbound and at home, you\\nrogue! What will it take for you to release me?”\\nBaudouin interrupts me, apparently miffed at being ignored.\\n“Don’t ya worry your cute little head, Lady, you’ll be released soon\\nenough.”\\n“I… I…”\\nI want to go on, I want to extract information from the reluctant\\nduo, but I feel so tired, so very exhausted. Torpor invades my limbs\\nand makes everything so heavy. My eyelids slide down with the\\nweight of an executioner’s axe.'"
      ]
     },
     "execution_count": 25,
     "metadata": {},
     "output_type": "execute_result"
    }
   ],
   "source": [
    "print(f'We have {len(documents)} pages in total')\n",
    "\n",
    "documents[8].page_content"
   ]
  },
  {
   "cell_type": "markdown",
   "id": "0c4bc105",
   "metadata": {},
   "source": [
    "# Chunking the data"
   ]
  },
  {
   "cell_type": "code",
   "execution_count": 32,
   "id": "f41697ba",
   "metadata": {},
   "outputs": [
    {
     "name": "stdout",
     "output_type": "stream",
     "text": [
      "We have created 11473 chunks from 5570 pages\n"
     ]
    }
   ],
   "source": [
    "text_splitter = RecursiveCharacterTextSplitter(\n",
    "    chunk_size = CFG.split_chunk_size,\n",
    "    chunk_overlap = CFG.split_overlap\n",
    ")\n",
    "\n",
    "texts = text_splitter.split_documents(documents)\n",
    "\n",
    "print(f'We have created {len(texts)} chunks from {len(documents)} pages')"
   ]
  },
  {
   "cell_type": "markdown",
   "id": "8c8b5a54",
   "metadata": {},
   "source": [
    "# Creating the embeddings"
   ]
  },
  {
   "cell_type": "code",
   "execution_count": 27,
   "id": "31c18f6a",
   "metadata": {},
   "outputs": [],
   "source": [
    "embeddings = OpenAIEmbeddings(\n",
    "    model=\"text-embedding-3-large\",\n",
    "    # With the `text-embedding-3` class\n",
    "    # of models, you can specify the size\n",
    "    # of the embeddings you want returned.\n",
    "    dimensions=1024\n",
    ")"
   ]
  },
  {
   "cell_type": "markdown",
   "id": "7e8f020b",
   "metadata": {},
   "source": [
    "# instantiating the database"
   ]
  },
  {
   "cell_type": "code",
   "execution_count": null,
   "id": "ee8d5672",
   "metadata": {},
   "outputs": [
    {
     "name": "stdout",
     "output_type": "stream",
     "text": [
      "CPU times: user 3.99 s, sys: 795 ms, total: 4.79 s\n",
      "Wall time: 57.2 s\n"
     ]
    }
   ],
   "source": [
    "%%time\n",
    "\n",
    "from langchain_huggingface import HuggingFaceEmbeddings\n",
    "\n",
    "### we create the embeddings only if they do not exist yet\n",
    "if not os.path.exists(CFG.Embeddings_path + '/index.faiss'):\n",
    "\n",
    "    ### create embeddings and DB\n",
    "    vectordb = FAISS.from_documents(\n",
    "        documents = texts, \n",
    "        embedding = embeddings\n",
    "    )\n",
    "\n",
    "    ### persist vector database\n",
    "    vectordb.save_local(f\"{CFG.Output_folder}/faiss_index_hp\") # save in output folder\n",
    "#     vectordb.save_local(f\"{CFG.Embeddings_path}/faiss_index_hp\") # save in input folder"
   ]
  },
  {
   "cell_type": "code",
   "execution_count": null,
   "id": "014b7f15",
   "metadata": {},
   "outputs": [],
   "source": [
    "## load previously generated embeddings"
   ]
  },
  {
   "cell_type": "code",
   "execution_count": 29,
   "id": "328f1108",
   "metadata": {},
   "outputs": [
    {
     "name": "stdout",
     "output_type": "stream",
     "text": [
      "CPU times: user 29.2 ms, sys: 69.2 ms, total: 98.4 ms\n",
      "Wall time: 111 ms\n"
     ]
    }
   ],
   "source": [
    "%%time\n",
    "from langchain_huggingface import HuggingFaceEmbeddings\n",
    "\n",
    "### load vector DB embeddings\n",
    "vectordb = FAISS.load_local(\n",
    "#    CFG.Embeddings_path, # from input folder\n",
    "    CFG.Output_folder + '/faiss_index_hp', # from output folder\n",
    "    embeddings,\n",
    "    allow_dangerous_deserialization=True\n",
    ")"
   ]
  },
  {
   "cell_type": "markdown",
   "id": "1af5e746",
   "metadata": {},
   "source": [
    "# Test the database"
   ]
  },
  {
   "cell_type": "code",
   "execution_count": 30,
   "id": "3eb08010",
   "metadata": {},
   "outputs": [
    {
     "data": {
      "text/plain": [
       "[Document(id='e18175d3-5991-4cd9-92e7-56fb724c432f', metadata={'producer': 'calibre (7.18.0) [https://calibre-ebook.com]', 'creator': 'calibre (7.18.0) [https://calibre-ebook.com]', 'creationdate': '2025-05-17T13:48:53+00:00', 'author': 'Mecanimus', 'moddate': '2025-05-17T13:48:53+00:00', 'title': 'A Journey of Black and Red', 'source': 'input/books/Journey of Black and Red, A - Mecanimus.pdf', 'total_pages': 5570, 'page': 3629, 'page_label': '3630'}, page_content='their midst. There are tales of witches, werewolves and fae filled\\nwith inexact statements and exaggerations, and yet the flowing\\nprose makes them so very believable. The mysterious author also\\nincludes absurd creatures such as chupacabras and drop bears\\nwhich we are reasonably certain are jokes. He even mentions\\ntraveling courts of magical dancers and small winged creatures!”\\nWait.\\nWait.\\nHold on.\\nThis sounds awfully familiar.\\n“Ahem, imagine that. What does he say about the fae?”'),\n",
       " Document(id='81cfdb9e-6800-4b7a-84cf-b32a67a44e27', metadata={'producer': 'calibre (7.18.0) [https://calibre-ebook.com]', 'creator': 'calibre (7.18.0) [https://calibre-ebook.com]', 'creationdate': '2025-05-17T13:48:53+00:00', 'author': 'Mecanimus', 'moddate': '2025-05-17T13:48:53+00:00', 'title': 'A Journey of Black and Red', 'source': 'input/books/Journey of Black and Red, A - Mecanimus.pdf', 'total_pages': 5570, 'page': 2381, 'page_label': '2382'}, page_content='madmen or epileptics were part of the supernatural world on the\\nlevel of gnomes, elves and korrigans.\\nEnlightenment and the rise of the natural sciences have lifted the\\nveil of mystery over many phenomena. Thunderbolts are electricity.\\nEpilepsy is merely a disease. The potions of herbalists are chemical\\ncompounds with salutary effects on the flesh of man, and so on and\\nso forth. The winds of change have stripped away much of the fog\\nof superstition, but what remains now only stands in sharper\\ncontrast. Worse, the development of reliable means of\\ncommunication, the multiplication of newspapers and centralized\\ngovernments now shed light on magical creatures and their true\\ncapabilities.\\nMost communities make a good attempt at remaining hidden, so the'),\n",
       " Document(id='acf9840e-4ef0-47de-b79f-c69cd7c9e2dd', metadata={'producer': 'calibre (7.18.0) [https://calibre-ebook.com]', 'creator': 'calibre (7.18.0) [https://calibre-ebook.com]', 'creationdate': '2025-05-17T13:48:53+00:00', 'author': 'Mecanimus', 'moddate': '2025-05-17T13:48:53+00:00', 'title': 'A Journey of Black and Red', 'source': 'input/books/Journey of Black and Red, A - Mecanimus.pdf', 'total_pages': 5570, 'page': 4767, 'page_label': '4768'}, page_content='local species that feeds off magical energy. An airship cannot\\nfunction for very long because the current models rely on our\\nplanet’s ambient energy, something the dead world is devoid of. For\\nnow we have no recourse.”\\n \\n“How about a true expedition? A cavalry detachment would wipe\\nthose creatures from the field!”\\n \\n“Of this I have no doubt, but then there would be another field, and\\nanother after that. The Merghols are without number.”\\n \\n“Nasty things they are,” the smirking man said.'),\n",
       " Document(id='006af663-4757-4473-998f-f44f2efaf644', metadata={'producer': 'calibre (7.18.0) [https://calibre-ebook.com]', 'creator': 'calibre (7.18.0) [https://calibre-ebook.com]', 'creationdate': '2025-05-17T13:48:53+00:00', 'author': 'Mecanimus', 'moddate': '2025-05-17T13:48:53+00:00', 'title': 'A Journey of Black and Red', 'source': 'input/books/Journey of Black and Red, A - Mecanimus.pdf', 'total_pages': 5570, 'page': 1250, 'page_label': '1251'}, page_content='can do nothing but slowly crawl away as fliers and outriders\\nslaughter and devour them alive. In the middle of the grisly melee,\\nthe larger creature grabs corpse after corpse and makes them\\ndisappear in the abyss of its gullet with a horrific gurgle.\\nA regal voice distracts me, easily covering the sounds of the feast.\\n“That would be a Merghol mana hound pack. I learnt of them in a\\nlong lost tome that fell through the cracks of the world. They are\\nartificial creatures designed to hunt and kill mages, used in that\\ndying world you saw.”\\nShe sounds conversational, as if we were two ladies attending an\\nevent. Those who allowed her to come this far are being devoured\\nas they still draw breath and she does not care in the slightest. They')]"
      ]
     },
     "execution_count": 30,
     "metadata": {},
     "output_type": "execute_result"
    }
   ],
   "source": [
    "### test if vector DB was loaded correctly\n",
    "vectordb.similarity_search('magic creatures')"
   ]
  },
  {
   "cell_type": "code",
   "execution_count": 31,
   "id": "7d39ec6c",
   "metadata": {},
   "outputs": [
    {
     "data": {
      "text/plain": [
       "[Document(id='cf279924-e021-4fc5-899f-4ec40517c2ee', metadata={'producer': 'calibre (7.18.0) [https://calibre-ebook.com]', 'creator': 'calibre (7.18.0) [https://calibre-ebook.com]', 'creationdate': '2025-05-17T13:48:53+00:00', 'author': 'Mecanimus', 'moddate': '2025-05-17T13:48:53+00:00', 'title': 'A Journey of Black and Red', 'source': 'input/books/Journey of Black and Red, A - Mecanimus.pdf', 'total_pages': 5570, 'page': 763, 'page_label': '764'}, page_content='attended church every Sunday. I am Ariane of the Nirari, the\\ndaughter of Thorn and Hunger, she who carved a bloody path to\\nfreedom through vampires and werewolves alike. That Ariane does'),\n",
       " Document(id='9ede49bb-1973-4477-9179-3797771c9537', metadata={'producer': 'calibre (7.18.0) [https://calibre-ebook.com]', 'creator': 'calibre (7.18.0) [https://calibre-ebook.com]', 'creationdate': '2025-05-17T13:48:53+00:00', 'author': 'Mecanimus', 'moddate': '2025-05-17T13:48:53+00:00', 'title': 'A Journey of Black and Red', 'source': 'input/books/Journey of Black and Red, A - Mecanimus.pdf', 'total_pages': 5570, 'page': 1448, 'page_label': '1449'}, page_content='On her left, a man with dark curly hair and a muscular back sits at a\\ndesk. She freezes. He finishes writing then turns around with a\\nsmile. He says something in a language she does not understand.\\nShe screams when he picks her up, when he breaks the fingers of\\nher right hand. He bites her neck. He forces her to drink something.\\nIt is intoxicating, the most exquisite thing in the world, but it burns'),\n",
       " Document(id='1a35fa05-0018-41a9-9100-dc9c6cac9fe4', metadata={'producer': 'calibre (7.18.0) [https://calibre-ebook.com]', 'creator': 'calibre (7.18.0) [https://calibre-ebook.com]', 'creationdate': '2025-05-17T13:48:53+00:00', 'author': 'Mecanimus', 'moddate': '2025-05-17T13:48:53+00:00', 'title': 'A Journey of Black and Red', 'source': 'input/books/Journey of Black and Red, A - Mecanimus.pdf', 'total_pages': 5570, 'page': 2756, 'page_label': '2757'}, page_content='down! It’s not Loth who got vampired, it’s Ariane of the whatever\\nwho got Dvergured!”'),\n",
       " Document(id='da0f2e3a-d0ed-48d3-b60a-6e8b18c4dad8', metadata={'producer': 'calibre (7.18.0) [https://calibre-ebook.com]', 'creator': 'calibre (7.18.0) [https://calibre-ebook.com]', 'creationdate': '2025-05-17T13:48:53+00:00', 'author': 'Mecanimus', 'moddate': '2025-05-17T13:48:53+00:00', 'title': 'A Journey of Black and Red', 'source': 'input/books/Journey of Black and Red, A - Mecanimus.pdf', 'total_pages': 5570, 'page': 105, 'page_label': '106'}, page_content='I do not know who turned those two brainless twits into creatures of\\nthe night. I think they should have stabbed themselves in the groin\\ninstead. \\n“And so our numbers are limited due to the difficulty involved in\\ncreating a spawn. Ariane dear, can you tell me why?” \\n“Only a master can create a spawn and it takes a century on\\naverage to become one. The process itself is also taxing and will\\nleave the Master weakened for years.” \\n“I am sure that you will be a master very soon, Mistress, I can\\nalready feel a presence,” Charlotte gushes, that sow.\\n“Quite so! Sometimes I cannot tell if you are passing by, or if it is\\nLady Moor!”\\nIf battle priests were to bust the door open right now and set us all\\nablaze, I believe I would let them, and be grateful to boot.'),\n",
       " Document(id='b685d452-a0e6-4f07-93ab-dfbee5b71290', metadata={'producer': 'calibre (7.18.0) [https://calibre-ebook.com]', 'creator': 'calibre (7.18.0) [https://calibre-ebook.com]', 'creationdate': '2025-05-17T13:48:53+00:00', 'author': 'Mecanimus', 'moddate': '2025-05-17T13:48:53+00:00', 'title': 'A Journey of Black and Red', 'source': 'input/books/Journey of Black and Red, A - Mecanimus.pdf', 'total_pages': 5570, 'page': 1487, 'page_label': '1488'}, page_content=\"supernatural entities often leave many vengeful victims in their\\nwake.\\n \\nOther characters:\\nAchille: Ariane's brother, currently still alive. He is a bit on the\\njudgemental and stubborn side though he does have a good\\nheart. We know little of him save that he made the family\\nbusiness prosper and had many children.\\nAintza: Jimena’s Servant and long-term lover. She was\\ninstrumental in freeing Ariane from Lancaster servitude.\\nArthur: Melusine's Vassal, he died saving her from an Order\\nambush.\\nCecil Rutherford Bingle: an adventurer and a gentleman. He\\nreturned to England after sharing an adventure with Ariane,\\nand married the woman he had met there, Rose. He has a\\npeculiar magic that turns everything dramatic around him.\"),\n",
       " Document(id='70370a79-aa42-49dd-911d-9dc4568f358b', metadata={'producer': 'calibre (7.18.0) [https://calibre-ebook.com]', 'creator': 'calibre (7.18.0) [https://calibre-ebook.com]', 'creationdate': '2025-05-17T13:48:53+00:00', 'author': 'Mecanimus', 'moddate': '2025-05-17T13:48:53+00:00', 'title': 'A Journey of Black and Red', 'source': 'input/books/Journey of Black and Red, A - Mecanimus.pdf', 'total_pages': 5570, 'page': 1484, 'page_label': '1485'}, page_content='Known members:\\nJarek, Lord, not much is known about him yet.\\n \\nNirari: The Devourer bloodline, the first vampires. Nirari can absorb\\na fragment of the strength of their victims and keep it for\\nthemselves at the cost of particularly strong instincts. Because of the\\nProgenitor’s use of his Spawn, only four Devourers are currently\\nalive while some newer bloodlines boast numbers in the hundreds.\\nLord Nirari himself is locked in a secret war with his mother, a\\nconflict that has spanned millennia. He is considered unstoppable by\\nmost organizations.\\nKnown members:\\nNirari: Ariane’s sire. Ancient Prince of Babyon. The first one to\\nreceive the elixir of flawed eternal life. He is cruel and\\nvindictive though he always respects his word.\\nAriane: you know.'),\n",
       " Document(id='dfd757b5-453e-4729-8f90-9f2df1bfb1fb', metadata={'producer': 'calibre (7.18.0) [https://calibre-ebook.com]', 'creator': 'calibre (7.18.0) [https://calibre-ebook.com]', 'creationdate': '2025-05-17T13:48:53+00:00', 'author': 'Mecanimus', 'moddate': '2025-05-17T13:48:53+00:00', 'title': 'A Journey of Black and Red', 'source': 'input/books/Journey of Black and Red, A - Mecanimus.pdf', 'total_pages': 5570, 'page': 85, 'page_label': '86'}, page_content='inspired a whole civilization. You were like her. You wanted it all, and\\nyou even wanted me! You asked me if I was married. Such\\npresumption, such hubris. I had to see it through. \\nSo here you are, little one, like me, a vampire. Free of the\\nconstraints of this barely civilized corner of the world. You can live\\nforever. Time will not wither your beauty, nor will it dull your wit. You\\ncan get it all, and you can even get me. Show me how far you can\\noverreach, little Ariane. Show me that I did not waste my blood and\\nmy seed on yet another failure.”'),\n",
       " Document(id='a5cc3708-1486-419c-aa78-c8c6e2f5998f', metadata={'producer': 'calibre (7.18.0) [https://calibre-ebook.com]', 'creator': 'calibre (7.18.0) [https://calibre-ebook.com]', 'creationdate': '2025-05-17T13:48:53+00:00', 'author': 'Mecanimus', 'moddate': '2025-05-17T13:48:53+00:00', 'title': 'A Journey of Black and Red', 'source': 'input/books/Journey of Black and Red, A - Mecanimus.pdf', 'total_pages': 5570, 'page': 2, 'page_label': '3'}, page_content='where to stumble is to die, all under the amused gaze of the apex\\npredators of the supernatural world: vampires.\\nIt is never healthy to attract the gaze of the aristocracy of the night.\\nIt takes much to survive in this merciless world, but Ariane will not\\nlet that deter her. The southern belle has a bite, and she is willing to\\nlearn and to grow in this hostile new world. She will use whatever\\nmeans necessary to reclaim her freedom, be it guile, charm, or those\\nintriguing new instincts that make blood so delectable. \\n \\n \\nThis is a story of vampires as I believe they should be, with their\\nstrengths and weaknesses, with their remnants of humanity and the\\nbeast inside. Updates every Friday. Mind the tags. \\nCover by Antti Hakosaari: https://www.artstation.com/haco'),\n",
       " Document(id='54ae474f-0249-4620-96af-f5af404d1f1d', metadata={'producer': 'calibre (7.18.0) [https://calibre-ebook.com]', 'creator': 'calibre (7.18.0) [https://calibre-ebook.com]', 'creationdate': '2025-05-17T13:48:53+00:00', 'author': 'Mecanimus', 'moddate': '2025-05-17T13:48:53+00:00', 'title': 'A Journey of Black and Red', 'source': 'input/books/Journey of Black and Red, A - Mecanimus.pdf', 'total_pages': 5570, 'page': 5265, 'page_label': '5266'}, page_content='male vampire. She thought he might be a newly ascended master\\nfrom his aura.\\n \\n“Constance, meet Irvine of the Lancaster. He was the one Moor\\nkidnapped and turned, thus causing the White Cabal to come for\\nrevenge. I was bringing him up to speed with the history of his lost\\nfaction.”\\n \\n“Reliable news was hard to come by here,” Irvine explained with a\\ngravelly voice. “And being Lady Moor’s spawn has… complicated\\nmatters.”\\n \\nConstance was not sure she understood. Ariane must have guessed\\nshe was lost because she provided an explanation.\\n \\n“Courtiers fall under the influence of their sires when it comes to\\nsympathies and allegiance. Irvine here was the previous black dog,\\nthe military leader of the cabal.”\\n \\n“Oh!”\\n \\nPoor Irvine may have felt ambivalent about his previous friends while'),\n",
       " Document(id='d57c8965-3583-460e-876b-263480d05993', metadata={'producer': 'calibre (7.18.0) [https://calibre-ebook.com]', 'creator': 'calibre (7.18.0) [https://calibre-ebook.com]', 'creationdate': '2025-05-17T13:48:53+00:00', 'author': 'Mecanimus', 'moddate': '2025-05-17T13:48:53+00:00', 'title': 'A Journey of Black and Red', 'source': 'input/books/Journey of Black and Red, A - Mecanimus.pdf', 'total_pages': 5570, 'page': 1106, 'page_label': '1107'}, page_content='I ignore that sore loser and open the very last door.\\nInside, I find a naked woman chained to the wall by a veritable\\ntangle of chains. I can barely see the ebony skin beneath the many\\nlinks covering her lithe form. Her face is haughty and beautiful with\\nsharp cheekbones. She is also a vampire.\\n“You look familiar…” I whisper.\\nHope flares in her dusky eyes. She strains against her restraints with\\nunbidden excitement.\\n“You… I know you. Ah yes, we met in New Orleans, sweet cheeks. I\\nthought you dead!”\\nI remember her. I was tasked with punishing a man by Baudouin\\nand she walked in and saved me. Her name was…\\n“Naminata!”\\n“Ariane! It is so good to see you! I thought I was finished for sure\\nthis time. Aaaa.”\\nI step much closer, excited.')]"
      ]
     },
     "execution_count": 31,
     "metadata": {},
     "output_type": "execute_result"
    }
   ],
   "source": [
    "### testing MMR search\n",
    "question = \"Who turns Ariane into a vampire?\"\n",
    "vectordb.max_marginal_relevance_search(question, k = CFG.k)"
   ]
  },
  {
   "cell_type": "code",
   "execution_count": null,
   "id": "f978ea2a",
   "metadata": {},
   "outputs": [],
   "source": [
    "### testing similarity search\n",
    "question = \"Who turns Ariane into a vampire?\"\n",
    "vectordb.similarity_search(question, k = CFG.k)"
   ]
  },
  {
   "cell_type": "markdown",
   "id": "3be1038b",
   "metadata": {},
   "source": [
    "# Instantiating the model"
   ]
  },
  {
   "cell_type": "code",
   "execution_count": null,
   "id": "d97ead10",
   "metadata": {},
   "outputs": [],
   "source": [
    "llm = ChatOpenAI(\n",
    "    model=\"gpt-4o\",\n",
    "    temperature=0,\n",
    "    max_tokens=None,\n",
    "    timeout=None,\n",
    "    max_retries=2\n",
    ")"
   ]
  }
 ],
 "metadata": {
  "kernelspec": {
   "display_name": ".venv",
   "language": "python",
   "name": "python3"
  },
  "language_info": {
   "codemirror_mode": {
    "name": "ipython",
    "version": 3
   },
   "file_extension": ".py",
   "mimetype": "text/x-python",
   "name": "python",
   "nbconvert_exporter": "python",
   "pygments_lexer": "ipython3",
   "version": "3.10.12"
  }
 },
 "nbformat": 4,
 "nbformat_minor": 5
}
